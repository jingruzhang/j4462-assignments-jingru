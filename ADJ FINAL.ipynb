{
 "cells": [
  {
   "cell_type": "markdown",
   "metadata": {},
   "source": [
    "# Final Project\n",
    "\n",
    "## I chose a python project on GitHub: nprapps/worldvalues\n",
    "\n",
    "https://github.com/nprapps/worldvalues\n",
    "\n",
    "## It's a data analysis on World Values Survey. \n",
    "\n",
    "# What is World Values Survey? \n",
    "\n",
    "The World Values Survey (www.worldvaluessurvey.org) is a global network of social scientists studying changing values and their impact on social and political life, led by an international team of scholars, with the WVS association and secretariat headquartered in Stockholm, Sweden. \n",
    "\n",
    "The survey started in 1981. The WVS consists of nationally representative surveys conducted in almost 100 countries which contain almost 90 percent of the world’s population, using a common questionnaire. \n",
    "\n",
    "The WVS is the largest non-commercial, cross-national, time series investigation of human beliefs and values ever executed, currently including interviews with almost 400,000 respondents. Moreover the WVS is the only academic study covering the full range of global variations, from very poor to very rich countries, in all of the world’s major cultural zones.\n",
    "\n",
    "## What did NPR do with the data?\n",
    "\n",
    "There are more than 200 questions asked in the questionarire. \n",
    "\n",
    "## And these are the 20 questions NPR picked out to do  analysis.\n",
    "\n",
    "V12-V22. what qualities do you encourage in your children?\n",
    "\n",
    "V45. When jobs are scarce, men should have more right to a job than women.\n",
    "\n",
    "V47. If a woman earns more money than her husband, it's almost certain to cause problems\n",
    "\n",
    "V48. Having a job is the best way for a woman to be an independent person.\n",
    "\n",
    "V50. When a mother works for pay, the children suffer.\n",
    "\n",
    "V51. On the whole, men make better political leaders than women do.\n",
    "\n",
    "V52. A university education is more important for a boy than for a girl.\n",
    "\n",
    "V53. On the whole, men make better business executives than women do.\n",
    "\n",
    "V54. Being a housewife is just as fulfilling as working for pay\n",
    "\n",
    "V80. I¹m going to read out some problems. Please indicate which of the following problems you consider the most serious one for the world as a whole? (Discrimination against girls and women)\n",
    "\n",
    "V123. I am going to name a number of organizations. For each one, could you tell me how much confidence you have in them: (Women¹s organizations)\n",
    "\n",
    "V139. Please tell me for each of the following things how essential you think it is as a characteristic of democracy. (Women have the same rights as men.)\n",
    "\n",
    "V168. Companies that employ young people perform better than those that employ people of different ages.\n",
    "\n",
    "V182. To what degree are you worried about the following situations? (Not being able to give my children a good education)\n",
    "\n",
    "V203A. Prostitution\n",
    "\n",
    "V204. Abortion\n",
    "\n",
    "V205. Divorce\n",
    "\n",
    "V206. Sex before marriage\n",
    "\n",
    "V207. Suicide\n",
    "\n",
    "V208. For a man to beat his wife\n",
    "\n",
    "V209. Parents beating children\n",
    "\n",
    "V240. Sex of respondent\n",
    "\n",
    "V241. Respondent's birth year.\n",
    "\n",
    "V242. Age\n",
    "\n",
    "V250. Do you live with your parents?\n",
    "\n",
    "# What's the story that came out of it? \n",
    "\n",
    "NPR used the survey result to these questions to explore the lives of 15 year-old girls around the world.\n",
    "\n",
    "http://www.npr.org/sections/goatsandsoda/2015/10/20/448407788/where-the-girls-are-and-aren-t-15girls\n"
   ]
  },
  {
   "cell_type": "markdown",
   "metadata": {},
   "source": [
    "## Download the folder from NPR's repository\n",
    "## Download and install everything as the README.md says. \n",
    "## After that, install three modules are not mentioned in the requirements file. \n",
    "    pip install dataset\n",
    "    pip install psycopg2\n",
    "    pip install csvkit\n",
    "    \n",
    "## Run ./process.sh"
   ]
  },
  {
   "cell_type": "code",
   "execution_count": null,
   "metadata": {
    "collapsed": false
   },
   "outputs": [],
   "source": [
    "#!/bin/bash\n",
    "\n",
    "echo \"Import data\"\n",
    "./import.sh\n",
    "\n",
    "echo \"Summarize World Values\"\n",
    "./summarize_agreement.py\n",
    "./summarize_questions.py > output/question_index.txt\n"
   ]
  },
  {
   "cell_type": "markdown",
   "metadata": {},
   "source": [
    "## ./summarize_agreement.py"
   ]
  },
  {
   "cell_type": "code",
   "execution_count": null,
   "metadata": {
    "collapsed": true
   },
   "outputs": [],
   "source": [
    "#!/usr/bin/env python\n",
    "# -*- coding: utf-8 -*-\n",
    "\n",
    "import dataset\n",
    "\n",
    "from db import query, initialize_counts, get_country_list\n",
    "from collections import OrderedDict\n",
    "\n",
    "\n",
    "ANALYSIS_QUESTIONS = ['v52', 'v45', 'v51']\n",
    "ANALYSIS_COUNTRIES = ['India', 'Pakistan', 'Nigeria', 'China', 'Brazil', 'United States']\n",
    "\n",
    "\n",
    "def _get_counts(result, question_id):\n",
    "    counts = OrderedDict()\n",
    "    for row in result:\n",
    "        if not row['country'] in counts.keys():\n",
    "            counts[row['country']] = initialize_counts(question_id)\n",
    "        counts[row[\"country\"]][row[\"response\"]] += 1\n",
    "    return counts\n",
    "\n",
    "\n",
    "def process_mentioned(question, result, countries):\n",
    "    counts = _get_counts(result, question['question_id'])\n",
    "    key = '{0} {1} (% mentioned)'.format(question['question_id'], question['label'])\n",
    "\n",
    "    for country, data in countries.items():\n",
    "        data[key] = None\n",
    "\n",
    "    for country, results in counts.items():\n",
    "        if country not in countries.keys():\n",
    "            continue\n",
    "\n",
    "        total = 0\n",
    "\n",
    "        for count in results.values():\n",
    "            total += count\n",
    "\n",
    "        countries[country][key] = float(results['Mentioned']) / float(total)\n",
    "\n",
    "\n",
    "def process_agree_3way(question, result, countries):\n",
    "    counts = _get_counts(result, question['question_id'])\n",
    "    key = '{0} {1} (% agree)'.format(question['question_id'], question['label'])\n",
    "\n",
    "    for country, data in countries.items():\n",
    "        data[key] = None\n",
    "\n",
    "    for country, results in counts.items():\n",
    "        if country not in countries.keys():\n",
    "            continue\n",
    "\n",
    "        total = 0\n",
    "\n",
    "        for count in results.values():\n",
    "            total += count\n",
    "\n",
    "        countries[country][key] = float(results['Agree']) / float(total)\n",
    "\n",
    "\n",
    "def process_agree_4way(question, result, countries):\n",
    "    counts = _get_counts(result, question['question_id'])\n",
    "    key = '{0} {1} (% agree strongly and agree)'.format(question['question_id'], question['label'])\n",
    "\n",
    "    for country, data in countries.items():\n",
    "        data[key] = None\n",
    "\n",
    "    for country, results in counts.items():\n",
    "        if country not in countries.keys():\n",
    "            continue\n",
    "\n",
    "        total = 0\n",
    "\n",
    "        for count in results.values():\n",
    "            total += count\n",
    "\n",
    "        countries[country][key] = (float(results['Agree']) + float(results['Agree strongly'])) / float(total)\n",
    "\n",
    "\n",
    "def process_likert(question, result, countries):\n",
    "    counts = _get_counts(result, question['question_id'])\n",
    "    key = '{0} {1} (% favorable [#5-#10])'.format(question['question_id'], question['label'])\n",
    "\n",
    "    for country, data in countries.items():\n",
    "        data[key] = None\n",
    "\n",
    "    for country, results in counts.items():\n",
    "        if country not in countries.keys():\n",
    "            continue\n",
    "\n",
    "        total = 0\n",
    "\n",
    "        for count in results.values():\n",
    "            total += count\n",
    "\n",
    "        favorable = sum(results.values()[5:10])\n",
    "\n",
    "        countries[country][key] = float(favorable) / float(total)\n",
    "\n",
    "\n",
    "def summarize_agreement():\n",
    "    \"\"\"\n",
    "    Summarize agreement levels\n",
    "    \"\"\"\n",
    "    country_list = get_country_list()\n",
    "    countries = OrderedDict()\n",
    "    for country in country_list:\n",
    "        if country in ANALYSIS_COUNTRIES:\n",
    "            countries[country] = OrderedDict((('country', country),))\n",
    "\n",
    "    for question_id in ANALYSIS_QUESTIONS:\n",
    "        question, result = query(question_id)\n",
    "\n",
    "        if question['question_type'] == 'mentioned':\n",
    "            process_mentioned(question, result, countries)\n",
    "\n",
    "        if question['question_type'] == 'agree_3way':\n",
    "            process_agree_3way(question, result, countries)\n",
    "\n",
    "        if question['question_type'] == 'agree_4way':\n",
    "            process_agree_4way(question, result, countries)\n",
    "\n",
    "        if question['question_type'] == 'likert':\n",
    "            process_likert(question, result, countries)\n",
    "\n",
    "    dataset.freeze(countries.values(), format='csv', filename='output/agreement_summary.csv')\n",
    "\n",
    "\n",
    "if __name__ == '__main__':\n",
    "    summarize_agreement()\n"
   ]
  },
  {
   "cell_type": "markdown",
   "metadata": {},
   "source": [
    "### ./process.sh will give you the summary output for all the questions NPR analyzed. Check output directory in csv format. "
   ]
  },
  {
   "cell_type": "markdown",
   "metadata": {},
   "source": [
    "## I used python agate to visualize the data summaries. "
   ]
  },
  {
   "cell_type": "code",
   "execution_count": null,
   "metadata": {
    "collapsed": false
   },
   "outputs": [],
   "source": [
    "import agate\n",
    "agreement_summary = agate.Table.from_csv('output/agreement_summary.csv')\n"
   ]
  },
  {
   "cell_type": "code",
   "execution_count": null,
   "metadata": {
    "collapsed": false
   },
   "outputs": [],
   "source": [
    "|------------------------------------------------------------------------------------------------------+------------|\n",
    "|  column                                                                                              | data_type  |\n",
    "|------------------------------------------------------------------------------------------------------+------------|\n",
    "|  country                                                                                             | Text       |\n",
    "|  v52 A university education is more important for a boy than for a girl (% agree strongly and agree) | Number     |\n",
    "|  v45 When jobs are scarce, men should have more right to a job than women (% agree)                  | Number     |\n",
    "|  v51 On the whole, men make better political leaders than women do (% agree strongly and agree)      | Number     |\n",
    "|------------------------------------------------------------------------------------------------------+------------|"
   ]
  },
  {
   "cell_type": "code",
   "execution_count": null,
   "metadata": {
    "collapsed": true
   },
   "outputs": [],
   "source": [
    "ANALYSIS_COUNTRIES = ['India', 'Pakistan', 'Nigeria', 'China', 'Brazil', 'United States']"
   ]
  },
  {
   "cell_type": "markdown",
   "metadata": {},
   "source": [
    "Where half the world's teen live"
   ]
  },
  {
   "cell_type": "code",
   "execution_count": null,
   "metadata": {
    "collapsed": true
   },
   "outputs": [],
   "source": [
    "sorted_by_education = agreement_summary.order_by('v52 A university education is more important for a boy than for a girl (% agree strongly and agree)')\n",
    "sorted_by_education.print_table(max_columns=2)"
   ]
  },
  {
   "cell_type": "markdown",
   "metadata": {},
   "source": [
    "|----------------+----------------------+------|\n",
    "|  country       | v52 A university ... | ...  |\n",
    "|----------------+----------------------+------|\n",
    "|  United States |  0.06720430107526881 | ...  |\n",
    "|  Brazil        |  0.09286675639300135 | ...  |\n",
    "|  China         |  0.22260869565217392 | ...  |\n",
    "|  Nigeria       |  0.42296759522455940 | ...  |\n",
    "|  Pakistan      |  0.50583333333333340 | ...  |\n",
    "|  India         |  0.61986084756483240 | ...  |\n",
    "|----------------+----------------------+------|"
   ]
  },
  {
   "cell_type": "code",
   "execution_count": null,
   "metadata": {
    "collapsed": true
   },
   "outputs": [],
   "source": [
    "sorted_by_job = agreement_summary.order_by('v45 When jobs are scarce, men should have more right to a job than women (% agree)', reverse = True)\n",
    "sorted_by_job.print_table(max_columns=3)"
   ]
  },
  {
   "cell_type": "markdown",
   "metadata": {},
   "source": [
    "|----------------+----------------------+----------------------+------|\n",
    "|  country       | v52 A university ... | v45 When jobs are... | ...  |\n",
    "|----------------+----------------------+----------------------+------|\n",
    "|  Pakistan      |  0.50583333333333340 | 0.735833333333333300 | ...  |\n",
    "|  Nigeria       |  0.42296759522455940 | 0.614553723706651500 | ...  |\n",
    "|  India         |  0.61986084756483240 | 0.507273877292852700 | ...  |\n",
    "|  China         |  0.22260869565217392 | 0.373043478260869600 | ...  |\n",
    "|  Brazil        |  0.09286675639300135 | 0.160834454912516830 | ...  |\n",
    "|  United States |  0.06720430107526881 | 0.056899641577060935 | ...  |\n",
    "|----------------+----------------------+----------------------+------|"
   ]
  },
  {
   "cell_type": "code",
   "execution_count": null,
   "metadata": {
    "collapsed": false
   },
   "outputs": [],
   "source": [
    "sorted_by_political_leader = agreement_summary.order_by('v51 On the whole, men make better political leaders than women do (% agree strongly and agree)', reverse = True)\n",
    "sorted_by_political_leader.print_table()"
   ]
  },
  {
   "cell_type": "markdown",
   "metadata": {},
   "source": [
    "|----------------+----------------------+----------------------+-----------------------|\n",
    "|  country       | v52 A university ... | v45 When jobs are... | v51 On the whole,...  |\n",
    "|----------------+----------------------+----------------------+-----------------------|\n",
    "|  Nigeria       |  0.42296759522455940 | 0.614553723706651500 |  0.74928936895963620  |\n",
    "|  Pakistan      |  0.50583333333333340 | 0.735833333333333300 |  0.72250000000000000  |\n",
    "|  India         |  0.61986084756483240 | 0.507273877292852700 |  0.62618595825426950  |\n",
    "|  China         |  0.22260869565217392 | 0.373043478260869600 |  0.48565217391304350  |\n",
    "|  Brazil        |  0.09286675639300135 | 0.160834454912516830 |  0.27052489905787347  |\n",
    "|  United States |  0.06720430107526881 | 0.056899641577060935 |  0.18548387096774194  |\n",
    "|----------------+----------------------+----------------------+-----------------------|"
   ]
  },
  {
   "cell_type": "markdown",
   "metadata": {},
   "source": [
    "I couldn't figure out how to use agate to visualize. But I think this makes good bar chart material."
   ]
  },
  {
   "cell_type": "markdown",
   "metadata": {},
   "source": [
    "## Inspiration: \n",
    "\n",
    "http://blog.apps.npr.org/2015/10/20/world-values-parser.html"
   ]
  }
 ],
 "metadata": {
  "kernelspec": {
   "display_name": "Python 2",
   "language": "python",
   "name": "python2"
  },
  "language_info": {
   "codemirror_mode": {
    "name": "ipython",
    "version": 2
   },
   "file_extension": ".py",
   "mimetype": "text/x-python",
   "name": "python",
   "nbconvert_exporter": "python",
   "pygments_lexer": "ipython2",
   "version": "2.7.10"
  }
 },
 "nbformat": 4,
 "nbformat_minor": 1
}
